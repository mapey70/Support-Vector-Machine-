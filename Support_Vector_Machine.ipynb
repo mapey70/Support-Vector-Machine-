{
  "nbformat": 4,
  "nbformat_minor": 0,
  "metadata": {
    "colab": {
      "name": "Support Vector Machine.ipynb",
      "provenance": []
    },
    "kernelspec": {
      "name": "python3",
      "display_name": "Python 3"
    },
    "language_info": {
      "name": "python"
    }
  },
  "cells": [
    {
      "cell_type": "code",
      "metadata": {
        "id": "0If7dXyK--0j"
      },
      "source": [
        "import os # operating system\n",
        "import numpy as np # linear algebra\n",
        "import pandas as pd # data processing, CSV file I/O (e.g. pd.read_csv)\n",
        "import matplotlib.pyplot as plt # standard graphics\n",
        "import seaborn as sns # fancier graphics\n",
        "from scipy import stats\n",
        "from sklearn import preprocessing"
      ],
      "execution_count": null,
      "outputs": []
    },
    {
      "cell_type": "code",
      "metadata": {
        "colab": {
          "resources": {
            "http://localhost:8080/nbextensions/google.colab/files.js": {
              "data": "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",
              "ok": true,
              "headers": [
                [
                  "content-type",
                  "application/javascript"
                ]
              ],
              "status": 200,
              "status_text": ""
            }
          },
          "base_uri": "https://localhost:8080/",
          "height": 73
        },
        "id": "0vb1DZ3ZAENA",
        "outputId": "62c0a016-47e4-464f-843d-ac9c8288f289"
      },
      "source": [
        "from google.colab import files\n",
        "uploaded = files.upload()"
      ],
      "execution_count": null,
      "outputs": [
        {
          "output_type": "display_data",
          "data": {
            "text/html": [
              "\n",
              "     <input type=\"file\" id=\"files-413be769-d28e-4f3f-b258-b3d568014cc7\" name=\"files[]\" multiple disabled\n",
              "        style=\"border:none\" />\n",
              "     <output id=\"result-413be769-d28e-4f3f-b258-b3d568014cc7\">\n",
              "      Upload widget is only available when the cell has been executed in the\n",
              "      current browser session. Please rerun this cell to enable.\n",
              "      </output>\n",
              "      <script src=\"/nbextensions/google.colab/files.js\"></script> "
            ],
            "text/plain": [
              "<IPython.core.display.HTML object>"
            ]
          },
          "metadata": {
            "tags": []
          }
        },
        {
          "output_type": "stream",
          "text": [
            "Saving sobar-72.csv to sobar-72.csv\n"
          ],
          "name": "stdout"
        }
      ]
    },
    {
      "cell_type": "code",
      "metadata": {
        "id": "dMtfr05JAJg6"
      },
      "source": [
        "sobar = pd.read_csv(\"sobar-72.csv\")"
      ],
      "execution_count": null,
      "outputs": []
    },
    {
      "cell_type": "code",
      "metadata": {
        "colab": {
          "base_uri": "https://localhost:8080/",
          "height": 224
        },
        "id": "k7LwW726g39b",
        "outputId": "52451ce8-1584-4551-a153-651991639795"
      },
      "source": [
        "sobar.head()"
      ],
      "execution_count": null,
      "outputs": [
        {
          "output_type": "execute_result",
          "data": {
            "text/html": [
              "<div>\n",
              "<style scoped>\n",
              "    .dataframe tbody tr th:only-of-type {\n",
              "        vertical-align: middle;\n",
              "    }\n",
              "\n",
              "    .dataframe tbody tr th {\n",
              "        vertical-align: top;\n",
              "    }\n",
              "\n",
              "    .dataframe thead th {\n",
              "        text-align: right;\n",
              "    }\n",
              "</style>\n",
              "<table border=\"1\" class=\"dataframe\">\n",
              "  <thead>\n",
              "    <tr style=\"text-align: right;\">\n",
              "      <th></th>\n",
              "      <th>behavior_sexualRisk</th>\n",
              "      <th>behavior_eating</th>\n",
              "      <th>behavior_personalHygine</th>\n",
              "      <th>intention_aggregation</th>\n",
              "      <th>intention_commitment</th>\n",
              "      <th>attitude_consistency</th>\n",
              "      <th>attitude_spontaneity</th>\n",
              "      <th>norm_significantPerson</th>\n",
              "      <th>norm_fulfillment</th>\n",
              "      <th>perception_vulnerability</th>\n",
              "      <th>perception_severity</th>\n",
              "      <th>motivation_strength</th>\n",
              "      <th>motivation_willingness</th>\n",
              "      <th>socialSupport_emotionality</th>\n",
              "      <th>socialSupport_appreciation</th>\n",
              "      <th>socialSupport_instrumental</th>\n",
              "      <th>empowerment_knowledge</th>\n",
              "      <th>empowerment_abilities</th>\n",
              "      <th>empowerment_desires</th>\n",
              "      <th>ca_cervix</th>\n",
              "    </tr>\n",
              "  </thead>\n",
              "  <tbody>\n",
              "    <tr>\n",
              "      <th>0</th>\n",
              "      <td>10</td>\n",
              "      <td>13</td>\n",
              "      <td>12</td>\n",
              "      <td>4</td>\n",
              "      <td>7</td>\n",
              "      <td>9</td>\n",
              "      <td>10</td>\n",
              "      <td>1</td>\n",
              "      <td>8</td>\n",
              "      <td>7</td>\n",
              "      <td>3</td>\n",
              "      <td>14</td>\n",
              "      <td>8</td>\n",
              "      <td>5</td>\n",
              "      <td>7</td>\n",
              "      <td>12</td>\n",
              "      <td>12</td>\n",
              "      <td>11</td>\n",
              "      <td>8</td>\n",
              "      <td>1</td>\n",
              "    </tr>\n",
              "    <tr>\n",
              "      <th>1</th>\n",
              "      <td>10</td>\n",
              "      <td>11</td>\n",
              "      <td>11</td>\n",
              "      <td>10</td>\n",
              "      <td>14</td>\n",
              "      <td>7</td>\n",
              "      <td>7</td>\n",
              "      <td>5</td>\n",
              "      <td>5</td>\n",
              "      <td>4</td>\n",
              "      <td>2</td>\n",
              "      <td>15</td>\n",
              "      <td>13</td>\n",
              "      <td>7</td>\n",
              "      <td>6</td>\n",
              "      <td>5</td>\n",
              "      <td>5</td>\n",
              "      <td>4</td>\n",
              "      <td>4</td>\n",
              "      <td>1</td>\n",
              "    </tr>\n",
              "    <tr>\n",
              "      <th>2</th>\n",
              "      <td>10</td>\n",
              "      <td>15</td>\n",
              "      <td>3</td>\n",
              "      <td>2</td>\n",
              "      <td>14</td>\n",
              "      <td>8</td>\n",
              "      <td>10</td>\n",
              "      <td>1</td>\n",
              "      <td>4</td>\n",
              "      <td>7</td>\n",
              "      <td>2</td>\n",
              "      <td>7</td>\n",
              "      <td>3</td>\n",
              "      <td>3</td>\n",
              "      <td>6</td>\n",
              "      <td>11</td>\n",
              "      <td>3</td>\n",
              "      <td>3</td>\n",
              "      <td>15</td>\n",
              "      <td>1</td>\n",
              "    </tr>\n",
              "    <tr>\n",
              "      <th>3</th>\n",
              "      <td>10</td>\n",
              "      <td>11</td>\n",
              "      <td>10</td>\n",
              "      <td>10</td>\n",
              "      <td>15</td>\n",
              "      <td>7</td>\n",
              "      <td>7</td>\n",
              "      <td>1</td>\n",
              "      <td>5</td>\n",
              "      <td>4</td>\n",
              "      <td>2</td>\n",
              "      <td>15</td>\n",
              "      <td>13</td>\n",
              "      <td>7</td>\n",
              "      <td>4</td>\n",
              "      <td>4</td>\n",
              "      <td>4</td>\n",
              "      <td>4</td>\n",
              "      <td>4</td>\n",
              "      <td>1</td>\n",
              "    </tr>\n",
              "    <tr>\n",
              "      <th>4</th>\n",
              "      <td>8</td>\n",
              "      <td>11</td>\n",
              "      <td>7</td>\n",
              "      <td>8</td>\n",
              "      <td>10</td>\n",
              "      <td>7</td>\n",
              "      <td>8</td>\n",
              "      <td>1</td>\n",
              "      <td>5</td>\n",
              "      <td>3</td>\n",
              "      <td>2</td>\n",
              "      <td>15</td>\n",
              "      <td>5</td>\n",
              "      <td>3</td>\n",
              "      <td>6</td>\n",
              "      <td>12</td>\n",
              "      <td>5</td>\n",
              "      <td>4</td>\n",
              "      <td>7</td>\n",
              "      <td>1</td>\n",
              "    </tr>\n",
              "  </tbody>\n",
              "</table>\n",
              "</div>"
            ],
            "text/plain": [
              "   behavior_sexualRisk  behavior_eating  ...  empowerment_desires  ca_cervix\n",
              "0                   10               13  ...                    8          1\n",
              "1                   10               11  ...                    4          1\n",
              "2                   10               15  ...                   15          1\n",
              "3                   10               11  ...                    4          1\n",
              "4                    8               11  ...                    7          1\n",
              "\n",
              "[5 rows x 20 columns]"
            ]
          },
          "metadata": {
            "tags": []
          },
          "execution_count": 4
        }
      ]
    },
    {
      "cell_type": "code",
      "metadata": {
        "colab": {
          "base_uri": "https://localhost:8080/",
          "height": 224
        },
        "id": "SYm_XjD2hGHZ",
        "outputId": "ac0dddc3-ff18-4e00-ece3-fe3c701b1c67"
      },
      "source": [
        "sobar.tail()"
      ],
      "execution_count": null,
      "outputs": [
        {
          "output_type": "execute_result",
          "data": {
            "text/html": [
              "<div>\n",
              "<style scoped>\n",
              "    .dataframe tbody tr th:only-of-type {\n",
              "        vertical-align: middle;\n",
              "    }\n",
              "\n",
              "    .dataframe tbody tr th {\n",
              "        vertical-align: top;\n",
              "    }\n",
              "\n",
              "    .dataframe thead th {\n",
              "        text-align: right;\n",
              "    }\n",
              "</style>\n",
              "<table border=\"1\" class=\"dataframe\">\n",
              "  <thead>\n",
              "    <tr style=\"text-align: right;\">\n",
              "      <th></th>\n",
              "      <th>behavior_sexualRisk</th>\n",
              "      <th>behavior_eating</th>\n",
              "      <th>behavior_personalHygine</th>\n",
              "      <th>intention_aggregation</th>\n",
              "      <th>intention_commitment</th>\n",
              "      <th>attitude_consistency</th>\n",
              "      <th>attitude_spontaneity</th>\n",
              "      <th>norm_significantPerson</th>\n",
              "      <th>norm_fulfillment</th>\n",
              "      <th>perception_vulnerability</th>\n",
              "      <th>perception_severity</th>\n",
              "      <th>motivation_strength</th>\n",
              "      <th>motivation_willingness</th>\n",
              "      <th>socialSupport_emotionality</th>\n",
              "      <th>socialSupport_appreciation</th>\n",
              "      <th>socialSupport_instrumental</th>\n",
              "      <th>empowerment_knowledge</th>\n",
              "      <th>empowerment_abilities</th>\n",
              "      <th>empowerment_desires</th>\n",
              "      <th>ca_cervix</th>\n",
              "    </tr>\n",
              "  </thead>\n",
              "  <tbody>\n",
              "    <tr>\n",
              "      <th>67</th>\n",
              "      <td>10</td>\n",
              "      <td>14</td>\n",
              "      <td>14</td>\n",
              "      <td>10</td>\n",
              "      <td>15</td>\n",
              "      <td>6</td>\n",
              "      <td>7</td>\n",
              "      <td>5</td>\n",
              "      <td>15</td>\n",
              "      <td>14</td>\n",
              "      <td>10</td>\n",
              "      <td>15</td>\n",
              "      <td>13</td>\n",
              "      <td>9</td>\n",
              "      <td>8</td>\n",
              "      <td>12</td>\n",
              "      <td>12</td>\n",
              "      <td>11</td>\n",
              "      <td>9</td>\n",
              "      <td>0</td>\n",
              "    </tr>\n",
              "    <tr>\n",
              "      <th>68</th>\n",
              "      <td>10</td>\n",
              "      <td>12</td>\n",
              "      <td>15</td>\n",
              "      <td>10</td>\n",
              "      <td>15</td>\n",
              "      <td>8</td>\n",
              "      <td>8</td>\n",
              "      <td>5</td>\n",
              "      <td>15</td>\n",
              "      <td>14</td>\n",
              "      <td>8</td>\n",
              "      <td>12</td>\n",
              "      <td>14</td>\n",
              "      <td>11</td>\n",
              "      <td>7</td>\n",
              "      <td>13</td>\n",
              "      <td>15</td>\n",
              "      <td>11</td>\n",
              "      <td>14</td>\n",
              "      <td>0</td>\n",
              "    </tr>\n",
              "    <tr>\n",
              "      <th>69</th>\n",
              "      <td>10</td>\n",
              "      <td>8</td>\n",
              "      <td>11</td>\n",
              "      <td>6</td>\n",
              "      <td>10</td>\n",
              "      <td>6</td>\n",
              "      <td>4</td>\n",
              "      <td>3</td>\n",
              "      <td>13</td>\n",
              "      <td>9</td>\n",
              "      <td>8</td>\n",
              "      <td>14</td>\n",
              "      <td>12</td>\n",
              "      <td>9</td>\n",
              "      <td>7</td>\n",
              "      <td>11</td>\n",
              "      <td>12</td>\n",
              "      <td>10</td>\n",
              "      <td>10</td>\n",
              "      <td>0</td>\n",
              "    </tr>\n",
              "    <tr>\n",
              "      <th>70</th>\n",
              "      <td>9</td>\n",
              "      <td>12</td>\n",
              "      <td>13</td>\n",
              "      <td>10</td>\n",
              "      <td>13</td>\n",
              "      <td>6</td>\n",
              "      <td>6</td>\n",
              "      <td>5</td>\n",
              "      <td>14</td>\n",
              "      <td>13</td>\n",
              "      <td>10</td>\n",
              "      <td>13</td>\n",
              "      <td>12</td>\n",
              "      <td>11</td>\n",
              "      <td>8</td>\n",
              "      <td>12</td>\n",
              "      <td>11</td>\n",
              "      <td>13</td>\n",
              "      <td>15</td>\n",
              "      <td>0</td>\n",
              "    </tr>\n",
              "    <tr>\n",
              "      <th>71</th>\n",
              "      <td>10</td>\n",
              "      <td>14</td>\n",
              "      <td>14</td>\n",
              "      <td>6</td>\n",
              "      <td>12</td>\n",
              "      <td>7</td>\n",
              "      <td>8</td>\n",
              "      <td>5</td>\n",
              "      <td>15</td>\n",
              "      <td>12</td>\n",
              "      <td>10</td>\n",
              "      <td>10</td>\n",
              "      <td>13</td>\n",
              "      <td>11</td>\n",
              "      <td>9</td>\n",
              "      <td>14</td>\n",
              "      <td>13</td>\n",
              "      <td>15</td>\n",
              "      <td>15</td>\n",
              "      <td>0</td>\n",
              "    </tr>\n",
              "  </tbody>\n",
              "</table>\n",
              "</div>"
            ],
            "text/plain": [
              "    behavior_sexualRisk  behavior_eating  ...  empowerment_desires  ca_cervix\n",
              "67                   10               14  ...                    9          0\n",
              "68                   10               12  ...                   14          0\n",
              "69                   10                8  ...                   10          0\n",
              "70                    9               12  ...                   15          0\n",
              "71                   10               14  ...                   15          0\n",
              "\n",
              "[5 rows x 20 columns]"
            ]
          },
          "metadata": {
            "tags": []
          },
          "execution_count": 5
        }
      ]
    },
    {
      "cell_type": "code",
      "metadata": {
        "colab": {
          "base_uri": "https://localhost:8080/"
        },
        "id": "nslpnkg4hOhN",
        "outputId": "549535f9-5baf-4e0f-8560-24c14859ee65"
      },
      "source": [
        "sobar.shape"
      ],
      "execution_count": null,
      "outputs": [
        {
          "output_type": "execute_result",
          "data": {
            "text/plain": [
              "(72, 20)"
            ]
          },
          "metadata": {
            "tags": []
          },
          "execution_count": 6
        }
      ]
    },
    {
      "cell_type": "code",
      "metadata": {
        "colab": {
          "base_uri": "https://localhost:8080/"
        },
        "id": "zQngeZgShQhI",
        "outputId": "06b1154d-83a2-40f7-88ac-a759529248b9"
      },
      "source": [
        "sobar.dtypes"
      ],
      "execution_count": null,
      "outputs": [
        {
          "output_type": "execute_result",
          "data": {
            "text/plain": [
              "behavior_sexualRisk           int64\n",
              "behavior_eating               int64\n",
              "behavior_personalHygine       int64\n",
              "intention_aggregation         int64\n",
              "intention_commitment          int64\n",
              "attitude_consistency          int64\n",
              "attitude_spontaneity          int64\n",
              "norm_significantPerson        int64\n",
              "norm_fulfillment              int64\n",
              "perception_vulnerability      int64\n",
              "perception_severity           int64\n",
              "motivation_strength           int64\n",
              "motivation_willingness        int64\n",
              "socialSupport_emotionality    int64\n",
              "socialSupport_appreciation    int64\n",
              "socialSupport_instrumental    int64\n",
              "empowerment_knowledge         int64\n",
              "empowerment_abilities         int64\n",
              "empowerment_desires           int64\n",
              "ca_cervix                     int64\n",
              "dtype: object"
            ]
          },
          "metadata": {
            "tags": []
          },
          "execution_count": 7
        }
      ]
    },
    {
      "cell_type": "code",
      "metadata": {
        "colab": {
          "base_uri": "https://localhost:8080/",
          "height": 317
        },
        "id": "dJZp6iuchdag",
        "outputId": "02cef03f-f16e-4023-ea38-568aedae91a0"
      },
      "source": [
        "sobar.describe()"
      ],
      "execution_count": null,
      "outputs": [
        {
          "output_type": "execute_result",
          "data": {
            "text/html": [
              "<div>\n",
              "<style scoped>\n",
              "    .dataframe tbody tr th:only-of-type {\n",
              "        vertical-align: middle;\n",
              "    }\n",
              "\n",
              "    .dataframe tbody tr th {\n",
              "        vertical-align: top;\n",
              "    }\n",
              "\n",
              "    .dataframe thead th {\n",
              "        text-align: right;\n",
              "    }\n",
              "</style>\n",
              "<table border=\"1\" class=\"dataframe\">\n",
              "  <thead>\n",
              "    <tr style=\"text-align: right;\">\n",
              "      <th></th>\n",
              "      <th>behavior_sexualRisk</th>\n",
              "      <th>behavior_eating</th>\n",
              "      <th>behavior_personalHygine</th>\n",
              "      <th>intention_aggregation</th>\n",
              "      <th>intention_commitment</th>\n",
              "      <th>attitude_consistency</th>\n",
              "      <th>attitude_spontaneity</th>\n",
              "      <th>norm_significantPerson</th>\n",
              "      <th>norm_fulfillment</th>\n",
              "      <th>perception_vulnerability</th>\n",
              "      <th>perception_severity</th>\n",
              "      <th>motivation_strength</th>\n",
              "      <th>motivation_willingness</th>\n",
              "      <th>socialSupport_emotionality</th>\n",
              "      <th>socialSupport_appreciation</th>\n",
              "      <th>socialSupport_instrumental</th>\n",
              "      <th>empowerment_knowledge</th>\n",
              "      <th>empowerment_abilities</th>\n",
              "      <th>empowerment_desires</th>\n",
              "      <th>ca_cervix</th>\n",
              "    </tr>\n",
              "  </thead>\n",
              "  <tbody>\n",
              "    <tr>\n",
              "      <th>count</th>\n",
              "      <td>72.000000</td>\n",
              "      <td>72.000000</td>\n",
              "      <td>72.000000</td>\n",
              "      <td>72.000000</td>\n",
              "      <td>72.000000</td>\n",
              "      <td>72.000000</td>\n",
              "      <td>72.000000</td>\n",
              "      <td>72.000000</td>\n",
              "      <td>72.000000</td>\n",
              "      <td>72.000000</td>\n",
              "      <td>72.000000</td>\n",
              "      <td>72.000000</td>\n",
              "      <td>72.000000</td>\n",
              "      <td>72.000000</td>\n",
              "      <td>72.000000</td>\n",
              "      <td>72.000000</td>\n",
              "      <td>72.000000</td>\n",
              "      <td>72.000000</td>\n",
              "      <td>72.000000</td>\n",
              "      <td>72.000000</td>\n",
              "    </tr>\n",
              "    <tr>\n",
              "      <th>mean</th>\n",
              "      <td>9.666667</td>\n",
              "      <td>12.791667</td>\n",
              "      <td>11.083333</td>\n",
              "      <td>7.902778</td>\n",
              "      <td>13.347222</td>\n",
              "      <td>7.180556</td>\n",
              "      <td>8.611111</td>\n",
              "      <td>3.125000</td>\n",
              "      <td>8.486111</td>\n",
              "      <td>8.513889</td>\n",
              "      <td>5.388889</td>\n",
              "      <td>12.652778</td>\n",
              "      <td>9.694444</td>\n",
              "      <td>8.097222</td>\n",
              "      <td>6.166667</td>\n",
              "      <td>10.375000</td>\n",
              "      <td>10.541667</td>\n",
              "      <td>9.319444</td>\n",
              "      <td>10.277778</td>\n",
              "      <td>0.291667</td>\n",
              "    </tr>\n",
              "    <tr>\n",
              "      <th>std</th>\n",
              "      <td>1.186782</td>\n",
              "      <td>2.361293</td>\n",
              "      <td>3.033847</td>\n",
              "      <td>2.738148</td>\n",
              "      <td>2.374511</td>\n",
              "      <td>1.522844</td>\n",
              "      <td>1.515698</td>\n",
              "      <td>1.845722</td>\n",
              "      <td>4.907577</td>\n",
              "      <td>4.275686</td>\n",
              "      <td>3.400727</td>\n",
              "      <td>3.207209</td>\n",
              "      <td>4.130406</td>\n",
              "      <td>4.243171</td>\n",
              "      <td>2.897303</td>\n",
              "      <td>4.316485</td>\n",
              "      <td>4.366768</td>\n",
              "      <td>4.181874</td>\n",
              "      <td>4.482273</td>\n",
              "      <td>0.457719</td>\n",
              "    </tr>\n",
              "    <tr>\n",
              "      <th>min</th>\n",
              "      <td>2.000000</td>\n",
              "      <td>3.000000</td>\n",
              "      <td>3.000000</td>\n",
              "      <td>2.000000</td>\n",
              "      <td>6.000000</td>\n",
              "      <td>2.000000</td>\n",
              "      <td>4.000000</td>\n",
              "      <td>1.000000</td>\n",
              "      <td>3.000000</td>\n",
              "      <td>3.000000</td>\n",
              "      <td>2.000000</td>\n",
              "      <td>3.000000</td>\n",
              "      <td>3.000000</td>\n",
              "      <td>3.000000</td>\n",
              "      <td>2.000000</td>\n",
              "      <td>3.000000</td>\n",
              "      <td>3.000000</td>\n",
              "      <td>3.000000</td>\n",
              "      <td>3.000000</td>\n",
              "      <td>0.000000</td>\n",
              "    </tr>\n",
              "    <tr>\n",
              "      <th>25%</th>\n",
              "      <td>10.000000</td>\n",
              "      <td>11.000000</td>\n",
              "      <td>9.000000</td>\n",
              "      <td>6.000000</td>\n",
              "      <td>11.000000</td>\n",
              "      <td>6.000000</td>\n",
              "      <td>8.000000</td>\n",
              "      <td>1.000000</td>\n",
              "      <td>3.000000</td>\n",
              "      <td>5.000000</td>\n",
              "      <td>2.000000</td>\n",
              "      <td>11.000000</td>\n",
              "      <td>7.000000</td>\n",
              "      <td>3.000000</td>\n",
              "      <td>3.750000</td>\n",
              "      <td>6.750000</td>\n",
              "      <td>7.000000</td>\n",
              "      <td>5.000000</td>\n",
              "      <td>6.750000</td>\n",
              "      <td>0.000000</td>\n",
              "    </tr>\n",
              "    <tr>\n",
              "      <th>50%</th>\n",
              "      <td>10.000000</td>\n",
              "      <td>13.000000</td>\n",
              "      <td>11.000000</td>\n",
              "      <td>10.000000</td>\n",
              "      <td>15.000000</td>\n",
              "      <td>7.000000</td>\n",
              "      <td>9.000000</td>\n",
              "      <td>3.000000</td>\n",
              "      <td>7.000000</td>\n",
              "      <td>8.000000</td>\n",
              "      <td>4.000000</td>\n",
              "      <td>14.000000</td>\n",
              "      <td>11.000000</td>\n",
              "      <td>9.000000</td>\n",
              "      <td>6.500000</td>\n",
              "      <td>12.000000</td>\n",
              "      <td>12.000000</td>\n",
              "      <td>10.000000</td>\n",
              "      <td>11.000000</td>\n",
              "      <td>0.000000</td>\n",
              "    </tr>\n",
              "    <tr>\n",
              "      <th>75%</th>\n",
              "      <td>10.000000</td>\n",
              "      <td>15.000000</td>\n",
              "      <td>14.000000</td>\n",
              "      <td>10.000000</td>\n",
              "      <td>15.000000</td>\n",
              "      <td>8.000000</td>\n",
              "      <td>10.000000</td>\n",
              "      <td>5.000000</td>\n",
              "      <td>14.000000</td>\n",
              "      <td>13.000000</td>\n",
              "      <td>9.000000</td>\n",
              "      <td>15.000000</td>\n",
              "      <td>13.000000</td>\n",
              "      <td>11.250000</td>\n",
              "      <td>9.000000</td>\n",
              "      <td>14.250000</td>\n",
              "      <td>15.000000</td>\n",
              "      <td>13.000000</td>\n",
              "      <td>15.000000</td>\n",
              "      <td>1.000000</td>\n",
              "    </tr>\n",
              "    <tr>\n",
              "      <th>max</th>\n",
              "      <td>10.000000</td>\n",
              "      <td>15.000000</td>\n",
              "      <td>15.000000</td>\n",
              "      <td>10.000000</td>\n",
              "      <td>15.000000</td>\n",
              "      <td>10.000000</td>\n",
              "      <td>10.000000</td>\n",
              "      <td>5.000000</td>\n",
              "      <td>15.000000</td>\n",
              "      <td>15.000000</td>\n",
              "      <td>10.000000</td>\n",
              "      <td>15.000000</td>\n",
              "      <td>15.000000</td>\n",
              "      <td>15.000000</td>\n",
              "      <td>10.000000</td>\n",
              "      <td>15.000000</td>\n",
              "      <td>15.000000</td>\n",
              "      <td>15.000000</td>\n",
              "      <td>15.000000</td>\n",
              "      <td>1.000000</td>\n",
              "    </tr>\n",
              "  </tbody>\n",
              "</table>\n",
              "</div>"
            ],
            "text/plain": [
              "       behavior_sexualRisk  behavior_eating  ...  empowerment_desires  ca_cervix\n",
              "count            72.000000        72.000000  ...            72.000000  72.000000\n",
              "mean              9.666667        12.791667  ...            10.277778   0.291667\n",
              "std               1.186782         2.361293  ...             4.482273   0.457719\n",
              "min               2.000000         3.000000  ...             3.000000   0.000000\n",
              "25%              10.000000        11.000000  ...             6.750000   0.000000\n",
              "50%              10.000000        13.000000  ...            11.000000   0.000000\n",
              "75%              10.000000        15.000000  ...            15.000000   1.000000\n",
              "max              10.000000        15.000000  ...            15.000000   1.000000\n",
              "\n",
              "[8 rows x 20 columns]"
            ]
          },
          "metadata": {
            "tags": []
          },
          "execution_count": 8
        }
      ]
    },
    {
      "cell_type": "code",
      "metadata": {
        "colab": {
          "base_uri": "https://localhost:8080/"
        },
        "id": "sLLHa2zQhurA",
        "outputId": "b5a0c273-2056-4540-bd32-03de9626c238"
      },
      "source": [
        "sobar.isnull().sum()"
      ],
      "execution_count": null,
      "outputs": [
        {
          "output_type": "execute_result",
          "data": {
            "text/plain": [
              "behavior_sexualRisk           0\n",
              "behavior_eating               0\n",
              "behavior_personalHygine       0\n",
              "intention_aggregation         0\n",
              "intention_commitment          0\n",
              "attitude_consistency          0\n",
              "attitude_spontaneity          0\n",
              "norm_significantPerson        0\n",
              "norm_fulfillment              0\n",
              "perception_vulnerability      0\n",
              "perception_severity           0\n",
              "motivation_strength           0\n",
              "motivation_willingness        0\n",
              "socialSupport_emotionality    0\n",
              "socialSupport_appreciation    0\n",
              "socialSupport_instrumental    0\n",
              "empowerment_knowledge         0\n",
              "empowerment_abilities         0\n",
              "empowerment_desires           0\n",
              "ca_cervix                     0\n",
              "dtype: int64"
            ]
          },
          "metadata": {
            "tags": []
          },
          "execution_count": 9
        }
      ]
    },
    {
      "cell_type": "code",
      "metadata": {
        "colab": {
          "base_uri": "https://localhost:8080/",
          "height": 689
        },
        "id": "vL5y7wJniItE",
        "outputId": "13490cea-d4e3-4cb9-cbb5-70db4aadc899"
      },
      "source": [
        "sobar.corr()"
      ],
      "execution_count": null,
      "outputs": [
        {
          "output_type": "execute_result",
          "data": {
            "text/html": [
              "<div>\n",
              "<style scoped>\n",
              "    .dataframe tbody tr th:only-of-type {\n",
              "        vertical-align: middle;\n",
              "    }\n",
              "\n",
              "    .dataframe tbody tr th {\n",
              "        vertical-align: top;\n",
              "    }\n",
              "\n",
              "    .dataframe thead th {\n",
              "        text-align: right;\n",
              "    }\n",
              "</style>\n",
              "<table border=\"1\" class=\"dataframe\">\n",
              "  <thead>\n",
              "    <tr style=\"text-align: right;\">\n",
              "      <th></th>\n",
              "      <th>behavior_sexualRisk</th>\n",
              "      <th>behavior_eating</th>\n",
              "      <th>behavior_personalHygine</th>\n",
              "      <th>intention_aggregation</th>\n",
              "      <th>intention_commitment</th>\n",
              "      <th>attitude_consistency</th>\n",
              "      <th>attitude_spontaneity</th>\n",
              "      <th>norm_significantPerson</th>\n",
              "      <th>norm_fulfillment</th>\n",
              "      <th>perception_vulnerability</th>\n",
              "      <th>perception_severity</th>\n",
              "      <th>motivation_strength</th>\n",
              "      <th>motivation_willingness</th>\n",
              "      <th>socialSupport_emotionality</th>\n",
              "      <th>socialSupport_appreciation</th>\n",
              "      <th>socialSupport_instrumental</th>\n",
              "      <th>empowerment_knowledge</th>\n",
              "      <th>empowerment_abilities</th>\n",
              "      <th>empowerment_desires</th>\n",
              "      <th>ca_cervix</th>\n",
              "    </tr>\n",
              "  </thead>\n",
              "  <tbody>\n",
              "    <tr>\n",
              "      <th>behavior_sexualRisk</th>\n",
              "      <td>1.000000</td>\n",
              "      <td>-0.165857</td>\n",
              "      <td>0.003912</td>\n",
              "      <td>-0.005779</td>\n",
              "      <td>0.126616</td>\n",
              "      <td>-0.067541</td>\n",
              "      <td>-0.057420</td>\n",
              "      <td>0.057869</td>\n",
              "      <td>0.158799</td>\n",
              "      <td>0.175791</td>\n",
              "      <td>0.067469</td>\n",
              "      <td>-0.041937</td>\n",
              "      <td>0.309357</td>\n",
              "      <td>0.076449</td>\n",
              "      <td>0.102404</td>\n",
              "      <td>0.104478</td>\n",
              "      <td>0.173936</td>\n",
              "      <td>0.206222</td>\n",
              "      <td>0.285072</td>\n",
              "      <td>-0.311138</td>\n",
              "    </tr>\n",
              "    <tr>\n",
              "      <th>behavior_eating</th>\n",
              "      <td>-0.165857</td>\n",
              "      <td>1.000000</td>\n",
              "      <td>0.224623</td>\n",
              "      <td>0.116634</td>\n",
              "      <td>0.116075</td>\n",
              "      <td>0.124197</td>\n",
              "      <td>0.307610</td>\n",
              "      <td>0.038376</td>\n",
              "      <td>-0.048262</td>\n",
              "      <td>-0.000407</td>\n",
              "      <td>-0.077467</td>\n",
              "      <td>-0.141732</td>\n",
              "      <td>-0.077380</td>\n",
              "      <td>-0.076671</td>\n",
              "      <td>-0.013382</td>\n",
              "      <td>0.061665</td>\n",
              "      <td>0.060272</td>\n",
              "      <td>-0.015987</td>\n",
              "      <td>0.052121</td>\n",
              "      <td>0.200358</td>\n",
              "    </tr>\n",
              "    <tr>\n",
              "      <th>behavior_personalHygine</th>\n",
              "      <td>0.003912</td>\n",
              "      <td>0.224623</td>\n",
              "      <td>1.000000</td>\n",
              "      <td>0.441812</td>\n",
              "      <td>0.009613</td>\n",
              "      <td>0.152173</td>\n",
              "      <td>-0.118433</td>\n",
              "      <td>0.237063</td>\n",
              "      <td>0.252655</td>\n",
              "      <td>0.139975</td>\n",
              "      <td>0.252095</td>\n",
              "      <td>0.386605</td>\n",
              "      <td>0.432542</td>\n",
              "      <td>0.388862</td>\n",
              "      <td>0.354117</td>\n",
              "      <td>0.097603</td>\n",
              "      <td>0.444124</td>\n",
              "      <td>0.391971</td>\n",
              "      <td>0.199207</td>\n",
              "      <td>-0.372740</td>\n",
              "    </tr>\n",
              "    <tr>\n",
              "      <th>intention_aggregation</th>\n",
              "      <td>-0.005779</td>\n",
              "      <td>0.116634</td>\n",
              "      <td>0.441812</td>\n",
              "      <td>1.000000</td>\n",
              "      <td>0.265216</td>\n",
              "      <td>-0.039642</td>\n",
              "      <td>-0.175529</td>\n",
              "      <td>0.116701</td>\n",
              "      <td>0.059118</td>\n",
              "      <td>-0.044997</td>\n",
              "      <td>0.061595</td>\n",
              "      <td>0.337717</td>\n",
              "      <td>0.277540</td>\n",
              "      <td>0.188725</td>\n",
              "      <td>0.080188</td>\n",
              "      <td>0.035303</td>\n",
              "      <td>0.267148</td>\n",
              "      <td>0.106073</td>\n",
              "      <td>0.127319</td>\n",
              "      <td>-0.291717</td>\n",
              "    </tr>\n",
              "    <tr>\n",
              "      <th>intention_commitment</th>\n",
              "      <td>0.126616</td>\n",
              "      <td>0.116075</td>\n",
              "      <td>0.009613</td>\n",
              "      <td>0.265216</td>\n",
              "      <td>1.000000</td>\n",
              "      <td>-0.005897</td>\n",
              "      <td>0.229804</td>\n",
              "      <td>0.012453</td>\n",
              "      <td>-0.031610</td>\n",
              "      <td>-0.012274</td>\n",
              "      <td>-0.022190</td>\n",
              "      <td>0.180654</td>\n",
              "      <td>0.104314</td>\n",
              "      <td>0.000796</td>\n",
              "      <td>0.016037</td>\n",
              "      <td>0.015975</td>\n",
              "      <td>0.145965</td>\n",
              "      <td>0.056755</td>\n",
              "      <td>0.176077</td>\n",
              "      <td>-0.237040</td>\n",
              "    </tr>\n",
              "    <tr>\n",
              "      <th>attitude_consistency</th>\n",
              "      <td>-0.067541</td>\n",
              "      <td>0.124197</td>\n",
              "      <td>0.152173</td>\n",
              "      <td>-0.039642</td>\n",
              "      <td>-0.005897</td>\n",
              "      <td>1.000000</td>\n",
              "      <td>0.201706</td>\n",
              "      <td>0.187284</td>\n",
              "      <td>0.202935</td>\n",
              "      <td>0.180230</td>\n",
              "      <td>0.231020</td>\n",
              "      <td>0.062041</td>\n",
              "      <td>-0.089630</td>\n",
              "      <td>-0.170591</td>\n",
              "      <td>-0.045223</td>\n",
              "      <td>-0.066155</td>\n",
              "      <td>0.044390</td>\n",
              "      <td>-0.088804</td>\n",
              "      <td>-0.092052</td>\n",
              "      <td>0.125447</td>\n",
              "    </tr>\n",
              "    <tr>\n",
              "      <th>attitude_spontaneity</th>\n",
              "      <td>-0.057420</td>\n",
              "      <td>0.307610</td>\n",
              "      <td>-0.118433</td>\n",
              "      <td>-0.175529</td>\n",
              "      <td>0.229804</td>\n",
              "      <td>0.201706</td>\n",
              "      <td>1.000000</td>\n",
              "      <td>-0.138451</td>\n",
              "      <td>-0.101091</td>\n",
              "      <td>-0.075221</td>\n",
              "      <td>-0.101405</td>\n",
              "      <td>-0.051348</td>\n",
              "      <td>-0.109238</td>\n",
              "      <td>-0.090397</td>\n",
              "      <td>-0.132567</td>\n",
              "      <td>0.061354</td>\n",
              "      <td>0.134418</td>\n",
              "      <td>0.030986</td>\n",
              "      <td>0.107343</td>\n",
              "      <td>0.084590</td>\n",
              "    </tr>\n",
              "    <tr>\n",
              "      <th>norm_significantPerson</th>\n",
              "      <td>0.057869</td>\n",
              "      <td>0.038376</td>\n",
              "      <td>0.237063</td>\n",
              "      <td>0.116701</td>\n",
              "      <td>0.012453</td>\n",
              "      <td>0.187284</td>\n",
              "      <td>-0.138451</td>\n",
              "      <td>1.000000</td>\n",
              "      <td>0.643154</td>\n",
              "      <td>0.605689</td>\n",
              "      <td>0.636146</td>\n",
              "      <td>0.145434</td>\n",
              "      <td>0.054963</td>\n",
              "      <td>-0.037541</td>\n",
              "      <td>-0.214654</td>\n",
              "      <td>-0.248162</td>\n",
              "      <td>-0.102884</td>\n",
              "      <td>-0.049040</td>\n",
              "      <td>-0.123428</td>\n",
              "      <td>-0.293836</td>\n",
              "    </tr>\n",
              "    <tr>\n",
              "      <th>norm_fulfillment</th>\n",
              "      <td>0.158799</td>\n",
              "      <td>-0.048262</td>\n",
              "      <td>0.252655</td>\n",
              "      <td>0.059118</td>\n",
              "      <td>-0.031610</td>\n",
              "      <td>0.202935</td>\n",
              "      <td>-0.101091</td>\n",
              "      <td>0.643154</td>\n",
              "      <td>1.000000</td>\n",
              "      <td>0.792727</td>\n",
              "      <td>0.853534</td>\n",
              "      <td>0.130784</td>\n",
              "      <td>0.064407</td>\n",
              "      <td>-0.107139</td>\n",
              "      <td>-0.165258</td>\n",
              "      <td>-0.308588</td>\n",
              "      <td>-0.001287</td>\n",
              "      <td>0.032818</td>\n",
              "      <td>-0.112513</td>\n",
              "      <td>-0.427674</td>\n",
              "    </tr>\n",
              "    <tr>\n",
              "      <th>perception_vulnerability</th>\n",
              "      <td>0.175791</td>\n",
              "      <td>-0.000407</td>\n",
              "      <td>0.139975</td>\n",
              "      <td>-0.044997</td>\n",
              "      <td>-0.012274</td>\n",
              "      <td>0.180230</td>\n",
              "      <td>-0.075221</td>\n",
              "      <td>0.605689</td>\n",
              "      <td>0.792727</td>\n",
              "      <td>1.000000</td>\n",
              "      <td>0.809409</td>\n",
              "      <td>0.097417</td>\n",
              "      <td>0.098339</td>\n",
              "      <td>0.004194</td>\n",
              "      <td>-0.036572</td>\n",
              "      <td>-0.063245</td>\n",
              "      <td>0.153103</td>\n",
              "      <td>0.172650</td>\n",
              "      <td>0.126936</td>\n",
              "      <td>-0.423109</td>\n",
              "    </tr>\n",
              "    <tr>\n",
              "      <th>perception_severity</th>\n",
              "      <td>0.067469</td>\n",
              "      <td>-0.077467</td>\n",
              "      <td>0.252095</td>\n",
              "      <td>0.061595</td>\n",
              "      <td>-0.022190</td>\n",
              "      <td>0.231020</td>\n",
              "      <td>-0.101405</td>\n",
              "      <td>0.636146</td>\n",
              "      <td>0.853534</td>\n",
              "      <td>0.809409</td>\n",
              "      <td>1.000000</td>\n",
              "      <td>0.220461</td>\n",
              "      <td>0.134921</td>\n",
              "      <td>0.018816</td>\n",
              "      <td>-0.046696</td>\n",
              "      <td>-0.109861</td>\n",
              "      <td>0.114603</td>\n",
              "      <td>0.186245</td>\n",
              "      <td>0.006673</td>\n",
              "      <td>-0.508217</td>\n",
              "    </tr>\n",
              "    <tr>\n",
              "      <th>motivation_strength</th>\n",
              "      <td>-0.041937</td>\n",
              "      <td>-0.141732</td>\n",
              "      <td>0.386605</td>\n",
              "      <td>0.337717</td>\n",
              "      <td>0.180654</td>\n",
              "      <td>0.062041</td>\n",
              "      <td>-0.051348</td>\n",
              "      <td>0.145434</td>\n",
              "      <td>0.130784</td>\n",
              "      <td>0.097417</td>\n",
              "      <td>0.220461</td>\n",
              "      <td>1.000000</td>\n",
              "      <td>0.400153</td>\n",
              "      <td>0.281955</td>\n",
              "      <td>0.250347</td>\n",
              "      <td>0.116363</td>\n",
              "      <td>0.390744</td>\n",
              "      <td>0.328676</td>\n",
              "      <td>0.244884</td>\n",
              "      <td>-0.467324</td>\n",
              "    </tr>\n",
              "    <tr>\n",
              "      <th>motivation_willingness</th>\n",
              "      <td>0.309357</td>\n",
              "      <td>-0.077380</td>\n",
              "      <td>0.432542</td>\n",
              "      <td>0.277540</td>\n",
              "      <td>0.104314</td>\n",
              "      <td>-0.089630</td>\n",
              "      <td>-0.109238</td>\n",
              "      <td>0.054963</td>\n",
              "      <td>0.064407</td>\n",
              "      <td>0.098339</td>\n",
              "      <td>0.134921</td>\n",
              "      <td>0.400153</td>\n",
              "      <td>1.000000</td>\n",
              "      <td>0.701684</td>\n",
              "      <td>0.632802</td>\n",
              "      <td>0.512898</td>\n",
              "      <td>0.594972</td>\n",
              "      <td>0.618106</td>\n",
              "      <td>0.523491</td>\n",
              "      <td>-0.428989</td>\n",
              "    </tr>\n",
              "    <tr>\n",
              "      <th>socialSupport_emotionality</th>\n",
              "      <td>0.076449</td>\n",
              "      <td>-0.076671</td>\n",
              "      <td>0.388862</td>\n",
              "      <td>0.188725</td>\n",
              "      <td>0.000796</td>\n",
              "      <td>-0.170591</td>\n",
              "      <td>-0.090397</td>\n",
              "      <td>-0.037541</td>\n",
              "      <td>-0.107139</td>\n",
              "      <td>0.004194</td>\n",
              "      <td>0.018816</td>\n",
              "      <td>0.281955</td>\n",
              "      <td>0.701684</td>\n",
              "      <td>1.000000</td>\n",
              "      <td>0.741054</td>\n",
              "      <td>0.606253</td>\n",
              "      <td>0.634111</td>\n",
              "      <td>0.779269</td>\n",
              "      <td>0.626544</td>\n",
              "      <td>-0.391905</td>\n",
              "    </tr>\n",
              "    <tr>\n",
              "      <th>socialSupport_appreciation</th>\n",
              "      <td>0.102404</td>\n",
              "      <td>-0.013382</td>\n",
              "      <td>0.354117</td>\n",
              "      <td>0.080188</td>\n",
              "      <td>0.016037</td>\n",
              "      <td>-0.045223</td>\n",
              "      <td>-0.132567</td>\n",
              "      <td>-0.214654</td>\n",
              "      <td>-0.165258</td>\n",
              "      <td>-0.036572</td>\n",
              "      <td>-0.046696</td>\n",
              "      <td>0.250347</td>\n",
              "      <td>0.632802</td>\n",
              "      <td>0.741054</td>\n",
              "      <td>1.000000</td>\n",
              "      <td>0.737101</td>\n",
              "      <td>0.508193</td>\n",
              "      <td>0.630245</td>\n",
              "      <td>0.646030</td>\n",
              "      <td>-0.313307</td>\n",
              "    </tr>\n",
              "    <tr>\n",
              "      <th>socialSupport_instrumental</th>\n",
              "      <td>0.104478</td>\n",
              "      <td>0.061665</td>\n",
              "      <td>0.097603</td>\n",
              "      <td>0.035303</td>\n",
              "      <td>0.015975</td>\n",
              "      <td>-0.066155</td>\n",
              "      <td>0.061354</td>\n",
              "      <td>-0.248162</td>\n",
              "      <td>-0.308588</td>\n",
              "      <td>-0.063245</td>\n",
              "      <td>-0.109861</td>\n",
              "      <td>0.116363</td>\n",
              "      <td>0.512898</td>\n",
              "      <td>0.606253</td>\n",
              "      <td>0.737101</td>\n",
              "      <td>1.000000</td>\n",
              "      <td>0.626455</td>\n",
              "      <td>0.630744</td>\n",
              "      <td>0.710862</td>\n",
              "      <td>-0.134555</td>\n",
              "    </tr>\n",
              "    <tr>\n",
              "      <th>empowerment_knowledge</th>\n",
              "      <td>0.173936</td>\n",
              "      <td>0.060272</td>\n",
              "      <td>0.444124</td>\n",
              "      <td>0.267148</td>\n",
              "      <td>0.145965</td>\n",
              "      <td>0.044390</td>\n",
              "      <td>0.134418</td>\n",
              "      <td>-0.102884</td>\n",
              "      <td>-0.001287</td>\n",
              "      <td>0.153103</td>\n",
              "      <td>0.114603</td>\n",
              "      <td>0.390744</td>\n",
              "      <td>0.594972</td>\n",
              "      <td>0.634111</td>\n",
              "      <td>0.508193</td>\n",
              "      <td>0.626455</td>\n",
              "      <td>1.000000</td>\n",
              "      <td>0.836483</td>\n",
              "      <td>0.731940</td>\n",
              "      <td>-0.481814</td>\n",
              "    </tr>\n",
              "    <tr>\n",
              "      <th>empowerment_abilities</th>\n",
              "      <td>0.206222</td>\n",
              "      <td>-0.015987</td>\n",
              "      <td>0.391971</td>\n",
              "      <td>0.106073</td>\n",
              "      <td>0.056755</td>\n",
              "      <td>-0.088804</td>\n",
              "      <td>0.030986</td>\n",
              "      <td>-0.049040</td>\n",
              "      <td>0.032818</td>\n",
              "      <td>0.172650</td>\n",
              "      <td>0.186245</td>\n",
              "      <td>0.328676</td>\n",
              "      <td>0.618106</td>\n",
              "      <td>0.779269</td>\n",
              "      <td>0.630245</td>\n",
              "      <td>0.630744</td>\n",
              "      <td>0.836483</td>\n",
              "      <td>1.000000</td>\n",
              "      <td>0.743596</td>\n",
              "      <td>-0.542360</td>\n",
              "    </tr>\n",
              "    <tr>\n",
              "      <th>empowerment_desires</th>\n",
              "      <td>0.285072</td>\n",
              "      <td>0.052121</td>\n",
              "      <td>0.199207</td>\n",
              "      <td>0.127319</td>\n",
              "      <td>0.176077</td>\n",
              "      <td>-0.092052</td>\n",
              "      <td>0.107343</td>\n",
              "      <td>-0.123428</td>\n",
              "      <td>-0.112513</td>\n",
              "      <td>0.126936</td>\n",
              "      <td>0.006673</td>\n",
              "      <td>0.244884</td>\n",
              "      <td>0.523491</td>\n",
              "      <td>0.626544</td>\n",
              "      <td>0.646030</td>\n",
              "      <td>0.710862</td>\n",
              "      <td>0.731940</td>\n",
              "      <td>0.743596</td>\n",
              "      <td>1.000000</td>\n",
              "      <td>-0.458815</td>\n",
              "    </tr>\n",
              "    <tr>\n",
              "      <th>ca_cervix</th>\n",
              "      <td>-0.311138</td>\n",
              "      <td>0.200358</td>\n",
              "      <td>-0.372740</td>\n",
              "      <td>-0.291717</td>\n",
              "      <td>-0.237040</td>\n",
              "      <td>0.125447</td>\n",
              "      <td>0.084590</td>\n",
              "      <td>-0.293836</td>\n",
              "      <td>-0.427674</td>\n",
              "      <td>-0.423109</td>\n",
              "      <td>-0.508217</td>\n",
              "      <td>-0.467324</td>\n",
              "      <td>-0.428989</td>\n",
              "      <td>-0.391905</td>\n",
              "      <td>-0.313307</td>\n",
              "      <td>-0.134555</td>\n",
              "      <td>-0.481814</td>\n",
              "      <td>-0.542360</td>\n",
              "      <td>-0.458815</td>\n",
              "      <td>1.000000</td>\n",
              "    </tr>\n",
              "  </tbody>\n",
              "</table>\n",
              "</div>"
            ],
            "text/plain": [
              "                            behavior_sexualRisk  ...  ca_cervix\n",
              "behavior_sexualRisk                    1.000000  ...  -0.311138\n",
              "behavior_eating                       -0.165857  ...   0.200358\n",
              "behavior_personalHygine                0.003912  ...  -0.372740\n",
              "intention_aggregation                 -0.005779  ...  -0.291717\n",
              "intention_commitment                   0.126616  ...  -0.237040\n",
              "attitude_consistency                  -0.067541  ...   0.125447\n",
              "attitude_spontaneity                  -0.057420  ...   0.084590\n",
              "norm_significantPerson                 0.057869  ...  -0.293836\n",
              "norm_fulfillment                       0.158799  ...  -0.427674\n",
              "perception_vulnerability               0.175791  ...  -0.423109\n",
              "perception_severity                    0.067469  ...  -0.508217\n",
              "motivation_strength                   -0.041937  ...  -0.467324\n",
              "motivation_willingness                 0.309357  ...  -0.428989\n",
              "socialSupport_emotionality             0.076449  ...  -0.391905\n",
              "socialSupport_appreciation             0.102404  ...  -0.313307\n",
              "socialSupport_instrumental             0.104478  ...  -0.134555\n",
              "empowerment_knowledge                  0.173936  ...  -0.481814\n",
              "empowerment_abilities                  0.206222  ...  -0.542360\n",
              "empowerment_desires                    0.285072  ...  -0.458815\n",
              "ca_cervix                             -0.311138  ...   1.000000\n",
              "\n",
              "[20 rows x 20 columns]"
            ]
          },
          "metadata": {
            "tags": []
          },
          "execution_count": 10
        }
      ]
    },
    {
      "cell_type": "code",
      "metadata": {
        "colab": {
          "base_uri": "https://localhost:8080/",
          "height": 493
        },
        "id": "H0ez-qAZHXxr",
        "outputId": "12fc8fe4-05e4-4667-cca0-83798b4993e8"
      },
      "source": [
        "sobar.plot.scatter(x = 'perception_severity', y = 'empowerment_abilities', c= 'ca_cervix', figsize=(12,8), colormap='jet')"
      ],
      "execution_count": null,
      "outputs": [
        {
          "output_type": "execute_result",
          "data": {
            "text/plain": [
              "<matplotlib.axes._subplots.AxesSubplot at 0x7f1bf4f6cf90>"
            ]
          },
          "metadata": {
            "tags": []
          },
          "execution_count": 45
        },
        {
          "output_type": "display_data",
          "data": {
            "image/png": "[encoded data removed]",
            "text/plain": [
              "<Figure size 864x576 with 2 Axes>"
            ]
          },
          "metadata": {
            "tags": [],
            "needs_background": "light"
          }
        }
      ]
    },
    {
      "cell_type": "code",
      "metadata": {
        "colab": {
          "base_uri": "https://localhost:8080/"
        },
        "id": "J9XDudsBjQy2",
        "outputId": "1ece2a90-38db-44e5-e677-dc452e89b9ca"
      },
      "source": [
        "print(\"Total number of labels: {}\".format(sobar.shape[0]))\n",
        "print(\"Has cervical cancer: {}\".format(sobar[sobar.ca_cervix == 1].shape[0]))\n",
        "print(\"No cervical cancer: {}\".format(sobar[sobar.ca_cervix == 0].shape[0]))"
      ],
      "execution_count": null,
      "outputs": [
        {
          "output_type": "stream",
          "text": [
            "Total number of labels: 72\n",
            "Has cervical cancer: 21\n",
            "No cervical cancer: 51\n"
          ],
          "name": "stdout"
        }
      ]
    },
    {
      "cell_type": "code",
      "metadata": {
        "colab": {
          "base_uri": "https://localhost:8080/",
          "height": 224
        },
        "id": "AobEK8-bw-Q5",
        "outputId": "ace9d58a-4ca4-4732-e2e0-8e658e5d5f5f"
      },
      "source": [
        "X=sobar.iloc[:, :-1]\n",
        "X.head()"
      ],
      "execution_count": null,
      "outputs": [
        {
          "output_type": "execute_result",
          "data": {
            "text/html": [
              "<div>\n",
              "<style scoped>\n",
              "    .dataframe tbody tr th:only-of-type {\n",
              "        vertical-align: middle;\n",
              "    }\n",
              "\n",
              "    .dataframe tbody tr th {\n",
              "        vertical-align: top;\n",
              "    }\n",
              "\n",
              "    .dataframe thead th {\n",
              "        text-align: right;\n",
              "    }\n",
              "</style>\n",
              "<table border=\"1\" class=\"dataframe\">\n",
              "  <thead>\n",
              "    <tr style=\"text-align: right;\">\n",
              "      <th></th>\n",
              "      <th>behavior_sexualRisk</th>\n",
              "      <th>behavior_eating</th>\n",
              "      <th>behavior_personalHygine</th>\n",
              "      <th>intention_aggregation</th>\n",
              "      <th>intention_commitment</th>\n",
              "      <th>attitude_consistency</th>\n",
              "      <th>attitude_spontaneity</th>\n",
              "      <th>norm_significantPerson</th>\n",
              "      <th>norm_fulfillment</th>\n",
              "      <th>perception_vulnerability</th>\n",
              "      <th>perception_severity</th>\n",
              "      <th>motivation_strength</th>\n",
              "      <th>motivation_willingness</th>\n",
              "      <th>socialSupport_emotionality</th>\n",
              "      <th>socialSupport_appreciation</th>\n",
              "      <th>socialSupport_instrumental</th>\n",
              "      <th>empowerment_knowledge</th>\n",
              "      <th>empowerment_abilities</th>\n",
              "      <th>empowerment_desires</th>\n",
              "    </tr>\n",
              "  </thead>\n",
              "  <tbody>\n",
              "    <tr>\n",
              "      <th>0</th>\n",
              "      <td>10</td>\n",
              "      <td>13</td>\n",
              "      <td>12</td>\n",
              "      <td>4</td>\n",
              "      <td>7</td>\n",
              "      <td>9</td>\n",
              "      <td>10</td>\n",
              "      <td>1</td>\n",
              "      <td>8</td>\n",
              "      <td>7</td>\n",
              "      <td>3</td>\n",
              "      <td>14</td>\n",
              "      <td>8</td>\n",
              "      <td>5</td>\n",
              "      <td>7</td>\n",
              "      <td>12</td>\n",
              "      <td>12</td>\n",
              "      <td>11</td>\n",
              "      <td>8</td>\n",
              "    </tr>\n",
              "    <tr>\n",
              "      <th>1</th>\n",
              "      <td>10</td>\n",
              "      <td>11</td>\n",
              "      <td>11</td>\n",
              "      <td>10</td>\n",
              "      <td>14</td>\n",
              "      <td>7</td>\n",
              "      <td>7</td>\n",
              "      <td>5</td>\n",
              "      <td>5</td>\n",
              "      <td>4</td>\n",
              "      <td>2</td>\n",
              "      <td>15</td>\n",
              "      <td>13</td>\n",
              "      <td>7</td>\n",
              "      <td>6</td>\n",
              "      <td>5</td>\n",
              "      <td>5</td>\n",
              "      <td>4</td>\n",
              "      <td>4</td>\n",
              "    </tr>\n",
              "    <tr>\n",
              "      <th>2</th>\n",
              "      <td>10</td>\n",
              "      <td>15</td>\n",
              "      <td>3</td>\n",
              "      <td>2</td>\n",
              "      <td>14</td>\n",
              "      <td>8</td>\n",
              "      <td>10</td>\n",
              "      <td>1</td>\n",
              "      <td>4</td>\n",
              "      <td>7</td>\n",
              "      <td>2</td>\n",
              "      <td>7</td>\n",
              "      <td>3</td>\n",
              "      <td>3</td>\n",
              "      <td>6</td>\n",
              "      <td>11</td>\n",
              "      <td>3</td>\n",
              "      <td>3</td>\n",
              "      <td>15</td>\n",
              "    </tr>\n",
              "    <tr>\n",
              "      <th>3</th>\n",
              "      <td>10</td>\n",
              "      <td>11</td>\n",
              "      <td>10</td>\n",
              "      <td>10</td>\n",
              "      <td>15</td>\n",
              "      <td>7</td>\n",
              "      <td>7</td>\n",
              "      <td>1</td>\n",
              "      <td>5</td>\n",
              "      <td>4</td>\n",
              "      <td>2</td>\n",
              "      <td>15</td>\n",
              "      <td>13</td>\n",
              "      <td>7</td>\n",
              "      <td>4</td>\n",
              "      <td>4</td>\n",
              "      <td>4</td>\n",
              "      <td>4</td>\n",
              "      <td>4</td>\n",
              "    </tr>\n",
              "    <tr>\n",
              "      <th>4</th>\n",
              "      <td>8</td>\n",
              "      <td>11</td>\n",
              "      <td>7</td>\n",
              "      <td>8</td>\n",
              "      <td>10</td>\n",
              "      <td>7</td>\n",
              "      <td>8</td>\n",
              "      <td>1</td>\n",
              "      <td>5</td>\n",
              "      <td>3</td>\n",
              "      <td>2</td>\n",
              "      <td>15</td>\n",
              "      <td>5</td>\n",
              "      <td>3</td>\n",
              "      <td>6</td>\n",
              "      <td>12</td>\n",
              "      <td>5</td>\n",
              "      <td>4</td>\n",
              "      <td>7</td>\n",
              "    </tr>\n",
              "  </tbody>\n",
              "</table>\n",
              "</div>"
            ],
            "text/plain": [
              "   behavior_sexualRisk  ...  empowerment_desires\n",
              "0                   10  ...                    8\n",
              "1                   10  ...                    4\n",
              "2                   10  ...                   15\n",
              "3                   10  ...                    4\n",
              "4                    8  ...                    7\n",
              "\n",
              "[5 rows x 19 columns]"
            ]
          },
          "metadata": {
            "tags": []
          },
          "execution_count": 13
        }
      ]
    },
    {
      "cell_type": "code",
      "metadata": {
        "colab": {
          "base_uri": "https://localhost:8080/"
        },
        "id": "Tuzya1K6xDhK",
        "outputId": "7ff3a6bf-b257-46ce-d57c-b076a2648dc4"
      },
      "source": [
        "y=sobar.iloc[:,-1]\n",
        "y.head()"
      ],
      "execution_count": null,
      "outputs": [
        {
          "output_type": "execute_result",
          "data": {
            "text/plain": [
              "0    1\n",
              "1    1\n",
              "2    1\n",
              "3    1\n",
              "4    1\n",
              "Name: ca_cervix, dtype: int64"
            ]
          },
          "metadata": {
            "tags": []
          },
          "execution_count": 14
        }
      ]
    },
    {
      "cell_type": "code",
      "metadata": {
        "id": "_GNRWcJtxLuS"
      },
      "source": [
        "# Scale the data to be between -1 and 1\n",
        "from sklearn.preprocessing import StandardScaler\n",
        "scaler = StandardScaler()\n",
        "scaler.fit(X)\n",
        "X = scaler.transform(X)"
      ],
      "execution_count": null,
      "outputs": []
    },
    {
      "cell_type": "code",
      "metadata": {
        "id": "Vghecy0NxVEU"
      },
      "source": [
        "from sklearn.model_selection import train_test_split\n",
        "X_train, X_test, y_train, y_test = train_test_split(X, y, test_size=0.2, random_state=1)"
      ],
      "execution_count": null,
      "outputs": []
    },
    {
      "cell_type": "code",
      "metadata": {
        "id": "hZGCoQTo_998"
      },
      "source": [
        "#plt.scatter(X_train.iloc[:,0], X_train.iloc[:,1])"
      ],
      "execution_count": null,
      "outputs": []
    },
    {
      "cell_type": "code",
      "metadata": {
        "colab": {
          "base_uri": "https://localhost:8080/"
        },
        "id": "XpLah-76xiuY",
        "outputId": "ae0f81c4-2117-4fb2-8e0f-7f20fac3dc2c"
      },
      "source": [
        "from sklearn.svm import SVC\n",
        "from sklearn import metrics\n",
        "svc=SVC() #Default hyperparameters\n",
        "svc.fit(X_train,y_train)\n",
        "y_pred=svc.predict(X_test)\n",
        "print('Accuracy Score:')\n",
        "print(metrics.accuracy_score(y_test,y_pred))"
      ],
      "execution_count": null,
      "outputs": [
        {
          "output_type": "stream",
          "text": [
            "Accuracy Score:\n",
            "0.9333333333333333\n"
          ],
          "name": "stdout"
        }
      ]
    },
    {
      "cell_type": "code",
      "metadata": {
        "colab": {
          "base_uri": "https://localhost:8080/"
        },
        "id": "pUc9U8snxysR",
        "outputId": "02f2ba06-9fed-420a-e845-122a592c5534"
      },
      "source": [
        "svc=SVC(kernel='linear')\n",
        "svc.fit(X_train,y_train)\n",
        "y_pred=svc.predict(X_test)\n",
        "print('Accuracy Score:')\n",
        "print(metrics.accuracy_score(y_test,y_pred))"
      ],
      "execution_count": null,
      "outputs": [
        {
          "output_type": "stream",
          "text": [
            "Accuracy Score:\n",
            "0.8666666666666667\n"
          ],
          "name": "stdout"
        }
      ]
    },
    {
      "cell_type": "code",
      "metadata": {
        "colab": {
          "base_uri": "https://localhost:8080/"
        },
        "id": "7F9m39NXx3cu",
        "outputId": "a0bffdd4-7bb2-40dc-8efe-aecfc4e27989"
      },
      "source": [
        "svc=SVC(kernel='rbf')\n",
        "svc.fit(X_train,y_train)\n",
        "y_pred=svc.predict(X_test)\n",
        "print('Accuracy Score:')\n",
        "print(metrics.accuracy_score(y_test,y_pred))"
      ],
      "execution_count": null,
      "outputs": [
        {
          "output_type": "stream",
          "text": [
            "Accuracy Score:\n",
            "0.9333333333333333\n"
          ],
          "name": "stdout"
        }
      ]
    },
    {
      "cell_type": "code",
      "metadata": {
        "colab": {
          "base_uri": "https://localhost:8080/"
        },
        "id": "H35Hstspx9S7",
        "outputId": "0252d7bd-22be-4ef2-af20-c9deb8bc3b83"
      },
      "source": [
        "svc=SVC(kernel='poly')\n",
        "svc.fit(X_train,y_train)\n",
        "y_pred=svc.predict(X_test)\n",
        "print('Accuracy Score:')\n",
        "print(metrics.accuracy_score(y_test,y_pred))"
      ],
      "execution_count": null,
      "outputs": [
        {
          "output_type": "stream",
          "text": [
            "Accuracy Score:\n",
            "0.9333333333333333\n"
          ],
          "name": "stdout"
        }
      ]
    },
    {
      "cell_type": "code",
      "metadata": {
        "colab": {
          "base_uri": "https://localhost:8080/"
        },
        "id": "jCcGyoeryC8g",
        "outputId": "e9fcd2c1-6877-4856-e15c-99196d0cab6b"
      },
      "source": [
        "from sklearn.model_selection import cross_val_score\n",
        "svc=SVC(kernel='linear')\n",
        "scores = cross_val_score(svc, X, y, cv=10, scoring='accuracy') #cv is cross validation\n",
        "print(scores)"
      ],
      "execution_count": null,
      "outputs": [
        {
          "output_type": "stream",
          "text": [
            "[1.         1.         0.85714286 0.71428571 1.         1.\n",
            " 1.         1.         1.         1.        ]\n"
          ],
          "name": "stdout"
        }
      ]
    },
    {
      "cell_type": "code",
      "metadata": {
        "colab": {
          "base_uri": "https://localhost:8080/"
        },
        "id": "-cCGvU3Jy0bs",
        "outputId": "8d3e7e50-c02a-4a8c-e861-77736835e95a"
      },
      "source": [
        "print(scores.mean())"
      ],
      "execution_count": null,
      "outputs": [
        {
          "output_type": "stream",
          "text": [
            "0.9571428571428571\n"
          ],
          "name": "stdout"
        }
      ]
    },
    {
      "cell_type": "code",
      "metadata": {
        "colab": {
          "base_uri": "https://localhost:8080/"
        },
        "id": "fFb0J9Uoy8JR",
        "outputId": "3de46ee1-4e8f-4188-c3f6-447c04c66f0f"
      },
      "source": [
        "from sklearn.model_selection import cross_val_score\n",
        "svc=SVC(kernel='rbf')\n",
        "scores = cross_val_score(svc, X, y, cv=10, scoring='accuracy') #cv is cross validation\n",
        "print(scores)"
      ],
      "execution_count": null,
      "outputs": [
        {
          "output_type": "stream",
          "text": [
            "[0.875      1.         1.         0.57142857 1.         1.\n",
            " 0.71428571 1.         1.         0.85714286]\n"
          ],
          "name": "stdout"
        }
      ]
    },
    {
      "cell_type": "code",
      "metadata": {
        "colab": {
          "base_uri": "https://localhost:8080/"
        },
        "id": "DpV0Wl2jzB9b",
        "outputId": "c122ae0d-1988-4a59-9a70-dc899c1884b0"
      },
      "source": [
        "print(scores.mean())"
      ],
      "execution_count": null,
      "outputs": [
        {
          "output_type": "stream",
          "text": [
            "0.9017857142857142\n"
          ],
          "name": "stdout"
        }
      ]
    },
    {
      "cell_type": "code",
      "metadata": {
        "colab": {
          "base_uri": "https://localhost:8080/"
        },
        "id": "iKqH-ZC1zDe2",
        "outputId": "ae42e3cf-c9ad-46e9-e0c1-89b9972aead7"
      },
      "source": [
        "from sklearn.model_selection import cross_val_score\n",
        "svc=SVC(kernel='poly')\n",
        "scores = cross_val_score(svc, X, y, cv=10, scoring='accuracy') #cv is cross validation\n",
        "print(scores)"
      ],
      "execution_count": null,
      "outputs": [
        {
          "output_type": "stream",
          "text": [
            "[0.75       0.75       0.57142857 0.71428571 1.         0.71428571\n",
            " 0.85714286 1.         1.         0.71428571]\n"
          ],
          "name": "stdout"
        }
      ]
    },
    {
      "cell_type": "code",
      "metadata": {
        "colab": {
          "base_uri": "https://localhost:8080/"
        },
        "id": "HpHbUI3rzIvi",
        "outputId": "690bfb5d-2d8a-4390-bf0c-99f62ee96bf6"
      },
      "source": [
        "print(scores.mean())"
      ],
      "execution_count": null,
      "outputs": [
        {
          "output_type": "stream",
          "text": [
            "0.8071428571428572\n"
          ],
          "name": "stdout"
        }
      ]
    },
    {
      "cell_type": "code",
      "metadata": {
        "colab": {
          "base_uri": "https://localhost:8080/"
        },
        "id": "qcA2UujcKmnE",
        "outputId": "0e0db2aa-2537-4da5-e065-c23c823e7503"
      },
      "source": [
        "C_range=list(range(1,26))\n",
        "acc_score=[]\n",
        "for c in C_range:\n",
        "    svc = SVC(kernel='linear', C=c)\n",
        "    scores = cross_val_score(svc, X, y, cv=10, scoring='accuracy')\n",
        "    acc_score.append(scores.mean())\n",
        "print(acc_score)  "
      ],
      "execution_count": null,
      "outputs": [
        {
          "output_type": "stream",
          "text": [
            "[0.9571428571428571, 0.9571428571428571, 0.9571428571428571, 0.9571428571428571, 0.9571428571428571, 0.9571428571428571, 0.9571428571428571, 0.9571428571428571, 0.9571428571428571, 0.9571428571428571, 0.9571428571428571, 0.9571428571428571, 0.9571428571428571, 0.9571428571428571, 0.9571428571428571, 0.9571428571428571, 0.9571428571428571, 0.9571428571428571, 0.9571428571428571, 0.9571428571428571, 0.9571428571428571, 0.9571428571428571, 0.9571428571428571, 0.9571428571428571, 0.9571428571428571]\n"
          ],
          "name": "stdout"
        }
      ]
    },
    {
      "cell_type": "code",
      "metadata": {
        "colab": {
          "base_uri": "https://localhost:8080/",
          "height": 296
        },
        "id": "nEz2f6T2KyoQ",
        "outputId": "ddaaa433-e375-4869-a9f5-a8fcb1db9907"
      },
      "source": [
        "import matplotlib.pyplot as plt\n",
        "%matplotlib inline\n",
        "\n",
        "\n",
        "C_values=list(range(1,26))\n",
        "# plot the value of C for SVM (x-axis) versus the cross-validated accuracy (y-axis)\n",
        "plt.plot(C_values,acc_score)\n",
        "plt.xticks(np.arange(0,27,2))\n",
        "plt.xlabel('Value of C for SVC')\n",
        "plt.ylabel('Cross-Validated Accuracy')"
      ],
      "execution_count": null,
      "outputs": [
        {
          "output_type": "execute_result",
          "data": {
            "text/plain": [
              "Text(0, 0.5, 'Cross-Validated Accuracy')"
            ]
          },
          "metadata": {
            "tags": []
          },
          "execution_count": 29
        },
        {
          "output_type": "display_data",
          "data": {
            "image/png": "[encoded data removed]",
            "text/plain": [
              "<Figure size 432x288 with 1 Axes>"
            ]
          },
          "metadata": {
            "tags": [],
            "needs_background": "light"
          }
        }
      ]
    },
    {
      "cell_type": "code",
      "metadata": {
        "colab": {
          "base_uri": "https://localhost:8080/"
        },
        "id": "eUl463kzK8Eh",
        "outputId": "d0ef7e12-219b-45cb-e011-cc7de84e8675"
      },
      "source": [
        "C_range=list(np.arange(0.1,6,0.1))\n",
        "acc_score=[]\n",
        "for c in C_range:\n",
        "    svc = SVC(kernel='linear', C=c)\n",
        "    scores = cross_val_score(svc, X, y, cv=10, scoring='accuracy')\n",
        "    acc_score.append(scores.mean())\n",
        "print(acc_score)   "
      ],
      "execution_count": null,
      "outputs": [
        {
          "output_type": "stream",
          "text": [
            "[0.9017857142857142, 0.9142857142857143, 0.9142857142857143, 0.9142857142857143, 0.9571428571428571, 0.9571428571428571, 0.9571428571428571, 0.9571428571428571, 0.9571428571428571, 0.9571428571428571, 0.9571428571428571, 0.9571428571428571, 0.9571428571428571, 0.9571428571428571, 0.9571428571428571, 0.9571428571428571, 0.9571428571428571, 0.9571428571428571, 0.9571428571428571, 0.9571428571428571, 0.9571428571428571, 0.9571428571428571, 0.9571428571428571, 0.9571428571428571, 0.9571428571428571, 0.9571428571428571, 0.9571428571428571, 0.9571428571428571, 0.9571428571428571, 0.9571428571428571, 0.9571428571428571, 0.9571428571428571, 0.9571428571428571, 0.9571428571428571, 0.9571428571428571, 0.9571428571428571, 0.9571428571428571, 0.9571428571428571, 0.9571428571428571, 0.9571428571428571, 0.9571428571428571, 0.9571428571428571, 0.9571428571428571, 0.9571428571428571, 0.9571428571428571, 0.9571428571428571, 0.9571428571428571, 0.9571428571428571, 0.9571428571428571, 0.9571428571428571, 0.9571428571428571, 0.9571428571428571, 0.9571428571428571, 0.9571428571428571, 0.9571428571428571, 0.9571428571428571, 0.9571428571428571, 0.9571428571428571, 0.9571428571428571]\n"
          ],
          "name": "stdout"
        }
      ]
    },
    {
      "cell_type": "code",
      "metadata": {
        "colab": {
          "base_uri": "https://localhost:8080/",
          "height": 296
        },
        "id": "skPR0DCvK8XV",
        "outputId": "eb21764c-0829-4d96-a616-2404de4be491"
      },
      "source": [
        "import matplotlib.pyplot as plt\n",
        "%matplotlib inline\n",
        "\n",
        "C_values=list(np.arange(0.1,6,0.1))\n",
        "# plot the value of C for SVM (x-axis) versus the cross-validated accuracy (y-axis)\n",
        "plt.plot(C_values,acc_score)\n",
        "plt.xticks(np.arange(0.0,6,0.3))\n",
        "plt.xlabel('Value of C for SVC ')\n",
        "plt.ylabel('Cross-Validated Accuracy')"
      ],
      "execution_count": null,
      "outputs": [
        {
          "output_type": "execute_result",
          "data": {
            "text/plain": [
              "Text(0, 0.5, 'Cross-Validated Accuracy')"
            ]
          },
          "metadata": {
            "tags": []
          },
          "execution_count": 31
        },
        {
          "output_type": "display_data",
          "data": {
            "image/png": "[encoded data removed]",
            "text/plain": [
              "<Figure size 432x288 with 1 Axes>"
            ]
          },
          "metadata": {
            "tags": [],
            "needs_background": "light"
          }
        }
      ]
    },
    {
      "cell_type": "code",
      "metadata": {
        "colab": {
          "base_uri": "https://localhost:8080/"
        },
        "id": "qdSv2jzTLMiK",
        "outputId": "0790f01f-121f-4f26-fdd5-be748b8aad64"
      },
      "source": [
        "from sklearn.svm import SVC\n",
        "svc= SVC(kernel='linear',C=0.5)\n",
        "svc.fit(X_train,y_train)\n",
        "y_predict=svc.predict(X_test)\n",
        "accuracy_score= metrics.accuracy_score(y_test,y_predict)\n",
        "print(accuracy_score)"
      ],
      "execution_count": null,
      "outputs": [
        {
          "output_type": "stream",
          "text": [
            "0.8666666666666667\n"
          ],
          "name": "stdout"
        }
      ]
    },
    {
      "cell_type": "code",
      "metadata": {
        "colab": {
          "base_uri": "https://localhost:8080/"
        },
        "id": "d_utKnfiLNDr",
        "outputId": "a34f5747-70be-4e6d-b062-886a6d2e6af6"
      },
      "source": [
        "svc=SVC(kernel='linear',C=0.5)\n",
        "scores = cross_val_score(svc, X, y, cv=10, scoring='accuracy')\n",
        "print(scores)\n",
        "print(scores.mean())"
      ],
      "execution_count": null,
      "outputs": [
        {
          "output_type": "stream",
          "text": [
            "[1.         1.         0.85714286 0.71428571 1.         1.\n",
            " 1.         1.         1.         1.        ]\n",
            "0.9571428571428571\n"
          ],
          "name": "stdout"
        }
      ]
    }
  ]
}